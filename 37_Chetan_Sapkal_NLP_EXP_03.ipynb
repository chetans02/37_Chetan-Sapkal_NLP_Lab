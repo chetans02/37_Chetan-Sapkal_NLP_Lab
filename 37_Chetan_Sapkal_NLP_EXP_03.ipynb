{
  "nbformat": 4,
  "nbformat_minor": 0,
  "metadata": {
    "colab": {
      "provenance": [],
      "authorship_tag": "ABX9TyObe+t59VegWwPv5TVx/tBO",
      "include_colab_link": true
    },
    "kernelspec": {
      "name": "python3",
      "display_name": "Python 3"
    },
    "language_info": {
      "name": "python"
    }
  },
  "cells": [
    {
      "cell_type": "markdown",
      "metadata": {
        "id": "view-in-github",
        "colab_type": "text"
      },
      "source": [
        "<a href=\"https://colab.research.google.com/github/chetans02/37_Chetan-Sapkal_NLP_Lab/blob/main/37_Chetan_Sapkal_NLP_EXP_03.ipynb\" target=\"_parent\"><img src=\"https://colab.research.google.com/assets/colab-badge.svg\" alt=\"Open In Colab\"/></a>"
      ]
    },
    {
      "cell_type": "code",
      "execution_count": 1,
      "metadata": {
        "colab": {
          "base_uri": "https://localhost:8080/",
          "height": 0
        },
        "id": "hgYKb6BmSPnz",
        "outputId": "a081bc15-2b39-40ac-9799-546da38e1be6"
      },
      "outputs": [
        {
          "output_type": "stream",
          "name": "stdout",
          "text": [
            "Requirement already satisfied: nltk in /usr/local/lib/python3.10/dist-packages (3.8.1)\n",
            "Requirement already satisfied: click in /usr/local/lib/python3.10/dist-packages (from nltk) (8.1.7)\n",
            "Requirement already satisfied: joblib in /usr/local/lib/python3.10/dist-packages (from nltk) (1.3.2)\n",
            "Requirement already satisfied: regex>=2021.8.3 in /usr/local/lib/python3.10/dist-packages (from nltk) (2023.6.3)\n",
            "Requirement already satisfied: tqdm in /usr/local/lib/python3.10/dist-packages (from nltk) (4.66.1)\n"
          ]
        }
      ],
      "source": [
        "pip install nltk"
      ]
    },
    {
      "cell_type": "code",
      "source": [
        "import nltk\n",
        "nltk.download('stopwords')\n",
        "nltk.download('punkt')\n",
        "nltk.download('wordnet')"
      ],
      "metadata": {
        "colab": {
          "base_uri": "https://localhost:8080/",
          "height": 0
        },
        "id": "wOjuMmbZUWb4",
        "outputId": "8f1cfba4-9e0a-4c05-e33e-7077abb885ba"
      },
      "execution_count": 31,
      "outputs": [
        {
          "output_type": "stream",
          "name": "stderr",
          "text": [
            "[nltk_data] Downloading package stopwords to /root/nltk_data...\n",
            "[nltk_data]   Package stopwords is already up-to-date!\n",
            "[nltk_data] Downloading package punkt to /root/nltk_data...\n",
            "[nltk_data]   Package punkt is already up-to-date!\n",
            "[nltk_data] Downloading package wordnet to /root/nltk_data...\n"
          ]
        },
        {
          "output_type": "execute_result",
          "data": {
            "text/plain": [
              "True"
            ]
          },
          "metadata": {},
          "execution_count": 31
        }
      ]
    },
    {
      "cell_type": "code",
      "source": [
        "text = 'TON 618 is a hyperluminous, broad-absorption-line, radio-loud quasar and Lyman-alpha blob located near the border of the constellations Canes Venatici and Coma Berenices, with the projected comoving distance of approximately 18.2 billion light-years from Earth.'"
      ],
      "metadata": {
        "id": "ISdR7Ms3SXQS"
      },
      "execution_count": 2,
      "outputs": []
    },
    {
      "cell_type": "code",
      "source": [
        "text"
      ],
      "metadata": {
        "colab": {
          "base_uri": "https://localhost:8080/",
          "height": 53
        },
        "id": "7lnRGrWFSZnh",
        "outputId": "a87a3917-ce94-423a-cfcf-e6672aa27607"
      },
      "execution_count": 3,
      "outputs": [
        {
          "output_type": "execute_result",
          "data": {
            "text/plain": [
              "'TON 618 is a hyperluminous, broad-absorption-line, radio-loud quasar and Lyman-alpha blob located near the border of the constellations Canes Venatici and Coma Berenices, with the projected comoving distance of approximately 18.2 billion light-years from Earth.'"
            ],
            "application/vnd.google.colaboratory.intrinsic+json": {
              "type": "string"
            }
          },
          "metadata": {},
          "execution_count": 3
        }
      ]
    },
    {
      "cell_type": "markdown",
      "source": [
        "**Stop** Words"
      ],
      "metadata": {
        "id": "DN9NPJd9Sp4y"
      }
    },
    {
      "cell_type": "code",
      "source": [
        "from nltk.corpus import stopwords"
      ],
      "metadata": {
        "id": "DkRF-0JTSdMx"
      },
      "execution_count": 4,
      "outputs": []
    },
    {
      "cell_type": "code",
      "source": [
        "stop_words = stopwords.words('english')"
      ],
      "metadata": {
        "id": "OuQCcNn0SfiJ"
      },
      "execution_count": 9,
      "outputs": []
    },
    {
      "cell_type": "code",
      "source": [
        "from nltk.tokenize import word_tokenize\n",
        "words = word_tokenize(text)"
      ],
      "metadata": {
        "id": "qov97bf5ShjY"
      },
      "execution_count": 13,
      "outputs": []
    },
    {
      "cell_type": "markdown",
      "source": [
        "**Applying stop words**"
      ],
      "metadata": {
        "id": "2VM4pRs7S4TZ"
      }
    },
    {
      "cell_type": "code",
      "source": [
        "holder = list()\n",
        "for w in words:\n",
        "    if w not in set(stop_words):\n",
        "        holder.append(w)"
      ],
      "metadata": {
        "id": "eYXPxNpvSjHZ"
      },
      "execution_count": 14,
      "outputs": []
    },
    {
      "cell_type": "code",
      "source": [
        "holder"
      ],
      "metadata": {
        "colab": {
          "base_uri": "https://localhost:8080/",
          "height": 0
        },
        "id": "6gwbSOkvTDEJ",
        "outputId": "4be3976b-171a-4921-b242-fe3c97084859"
      },
      "execution_count": 15,
      "outputs": [
        {
          "output_type": "execute_result",
          "data": {
            "text/plain": [
              "['TON',\n",
              " '618',\n",
              " 'hyperluminous',\n",
              " ',',\n",
              " 'broad-absorption-line',\n",
              " ',',\n",
              " 'radio-loud',\n",
              " 'quasar',\n",
              " 'Lyman-alpha',\n",
              " 'blob',\n",
              " 'located',\n",
              " 'near',\n",
              " 'border',\n",
              " 'constellations',\n",
              " 'Canes',\n",
              " 'Venatici',\n",
              " 'Coma',\n",
              " 'Berenices',\n",
              " ',',\n",
              " 'projected',\n",
              " 'comoving',\n",
              " 'distance',\n",
              " 'approximately',\n",
              " '18.2',\n",
              " 'billion',\n",
              " 'light-years',\n",
              " 'Earth',\n",
              " '.']"
            ]
          },
          "metadata": {},
          "execution_count": 15
        }
      ]
    },
    {
      "cell_type": "markdown",
      "source": [
        "**List Comprehension for stop words**"
      ],
      "metadata": {
        "id": "StAEj-DgTFcB"
      }
    },
    {
      "cell_type": "code",
      "source": [
        "holder = [w for w in words if w not in set(stop_words)]\n",
        "print(holder)"
      ],
      "metadata": {
        "colab": {
          "base_uri": "https://localhost:8080/",
          "height": 0
        },
        "id": "bnHmMoDgTG_Z",
        "outputId": "cd515955-da8a-4191-dc63-6949e5f14e7e"
      },
      "execution_count": 16,
      "outputs": [
        {
          "output_type": "stream",
          "name": "stdout",
          "text": [
            "['TON', '618', 'hyperluminous', ',', 'broad-absorption-line', ',', 'radio-loud', 'quasar', 'Lyman-alpha', 'blob', 'located', 'near', 'border', 'constellations', 'Canes', 'Venatici', 'Coma', 'Berenices', ',', 'projected', 'comoving', 'distance', 'approximately', '18.2', 'billion', 'light-years', 'Earth', '.']\n"
          ]
        }
      ]
    },
    {
      "cell_type": "markdown",
      "source": [
        "**Stemming**"
      ],
      "metadata": {
        "id": "QM9aquKDTKm5"
      }
    },
    {
      "cell_type": "code",
      "source": [
        "from nltk.stem import PorterStemmer, SnowballStemmer, LancasterStemmer"
      ],
      "metadata": {
        "id": "dO8zMIkCTNmR"
      },
      "execution_count": 17,
      "outputs": []
    },
    {
      "cell_type": "code",
      "source": [
        "porter = PorterStemmer()\n",
        "snow = SnowballStemmer(language = 'english')\n",
        "lancaster = LancasterStemmer()"
      ],
      "metadata": {
        "id": "7Py_3sJcTPra"
      },
      "execution_count": 18,
      "outputs": []
    },
    {
      "cell_type": "code",
      "source": [
        "words = ['play', 'plays', 'played', 'playing', 'player']"
      ],
      "metadata": {
        "id": "fFt3NlYmTS6B"
      },
      "execution_count": 19,
      "outputs": []
    },
    {
      "cell_type": "markdown",
      "source": [
        "**Porter Stemmer**\n"
      ],
      "metadata": {
        "id": "3Vze8AVfTVCR"
      }
    },
    {
      "cell_type": "code",
      "source": [
        "porter_stemmed = list()\n",
        "for w in words:\n",
        "    stemmed_words = porter.stem(w)\n",
        "    porter_stemmed.append(stemmed_words)"
      ],
      "metadata": {
        "id": "DUXyeQ2mTbnA"
      },
      "execution_count": 20,
      "outputs": []
    },
    {
      "cell_type": "code",
      "source": [
        "porter_stemmed"
      ],
      "metadata": {
        "colab": {
          "base_uri": "https://localhost:8080/",
          "height": 0
        },
        "id": "T3dE3GurTfDJ",
        "outputId": "cf3a9a63-43d8-4523-c03e-65e27df8bbe5"
      },
      "execution_count": 21,
      "outputs": [
        {
          "output_type": "execute_result",
          "data": {
            "text/plain": [
              "['play', 'play', 'play', 'play', 'player']"
            ]
          },
          "metadata": {},
          "execution_count": 21
        }
      ]
    },
    {
      "cell_type": "markdown",
      "source": [
        "**Porter Stemmer List Comprehension**"
      ],
      "metadata": {
        "id": "fxZrHHlRThHg"
      }
    },
    {
      "cell_type": "code",
      "source": [
        "porter_stemmed = [porter.stem(x) for x in words]\n",
        "print (porter_stemmed)"
      ],
      "metadata": {
        "colab": {
          "base_uri": "https://localhost:8080/",
          "height": 0
        },
        "id": "o2uMC_rFTj8o",
        "outputId": "ccc76bf1-cd50-4baa-deef-37a6299c8488"
      },
      "execution_count": 22,
      "outputs": [
        {
          "output_type": "stream",
          "name": "stdout",
          "text": [
            "['play', 'play', 'play', 'play', 'player']\n"
          ]
        }
      ]
    },
    {
      "cell_type": "markdown",
      "source": [
        "**Snowball Stemmer**"
      ],
      "metadata": {
        "id": "jDWJtV5hTnuI"
      }
    },
    {
      "cell_type": "code",
      "source": [
        "snow_stemmed = list()\n",
        "for w in words:\n",
        "    stemmed_words = snow.stem(w)\n",
        "    snow_stemmed.append(stemmed_words)"
      ],
      "metadata": {
        "id": "4Tiy5iJPTpvh"
      },
      "execution_count": 23,
      "outputs": []
    },
    {
      "cell_type": "code",
      "source": [
        "snow_stemmed"
      ],
      "metadata": {
        "colab": {
          "base_uri": "https://localhost:8080/",
          "height": 0
        },
        "id": "dpdVoHCJTuRZ",
        "outputId": "fce3b30f-1957-4424-c88d-4d4c420e1907"
      },
      "execution_count": 24,
      "outputs": [
        {
          "output_type": "execute_result",
          "data": {
            "text/plain": [
              "['play', 'play', 'play', 'play', 'player']"
            ]
          },
          "metadata": {},
          "execution_count": 24
        }
      ]
    },
    {
      "cell_type": "markdown",
      "source": [
        "**Snowball Stemmer List Comprehension**"
      ],
      "metadata": {
        "id": "AAJUjpq1Twbi"
      }
    },
    {
      "cell_type": "code",
      "source": [
        "snow_stemmed = [snow.stem(x) for x in words]\n",
        "print (snow_stemmed)"
      ],
      "metadata": {
        "colab": {
          "base_uri": "https://localhost:8080/",
          "height": 0
        },
        "id": "WBH-7XKbT0Op",
        "outputId": "e6bad57c-a29f-49f9-9389-3bc35ad7186f"
      },
      "execution_count": 25,
      "outputs": [
        {
          "output_type": "stream",
          "name": "stdout",
          "text": [
            "['play', 'play', 'play', 'play', 'player']\n"
          ]
        }
      ]
    },
    {
      "cell_type": "markdown",
      "source": [
        "**Lancaster Stemmer**"
      ],
      "metadata": {
        "id": "dB23o85MT2HC"
      }
    },
    {
      "cell_type": "code",
      "source": [
        "lancaster_stemmed = list()\n",
        "for w in words:\n",
        "    stemmed_words = lancaster.stem(w)\n",
        "    lancaster_stemmed.append(stemmed_words)"
      ],
      "metadata": {
        "id": "XAugBSisT7k6"
      },
      "execution_count": 26,
      "outputs": []
    },
    {
      "cell_type": "code",
      "source": [
        "lancaster_stemmed"
      ],
      "metadata": {
        "colab": {
          "base_uri": "https://localhost:8080/",
          "height": 0
        },
        "id": "hpyog5fgT_mD",
        "outputId": "2fa55289-a0fa-4192-a411-855a10da19bb"
      },
      "execution_count": 27,
      "outputs": [
        {
          "output_type": "execute_result",
          "data": {
            "text/plain": [
              "['play', 'play', 'play', 'play', 'play']"
            ]
          },
          "metadata": {},
          "execution_count": 27
        }
      ]
    },
    {
      "cell_type": "markdown",
      "source": [
        "**Lancaster Stemmer List Comprehension**"
      ],
      "metadata": {
        "id": "yOVelarrUB75"
      }
    },
    {
      "cell_type": "code",
      "source": [
        "lancaster_stemmed = [lancaster.stem(x) for x in words]\n",
        "print (lancaster_stemmed)"
      ],
      "metadata": {
        "colab": {
          "base_uri": "https://localhost:8080/",
          "height": 0
        },
        "id": "lxaebPQvUEBJ",
        "outputId": "1c727836-07be-421a-95ac-810a833f2515"
      },
      "execution_count": 28,
      "outputs": [
        {
          "output_type": "stream",
          "name": "stdout",
          "text": [
            "['play', 'play', 'play', 'play', 'play']\n"
          ]
        }
      ]
    },
    {
      "cell_type": "markdown",
      "source": [
        "**Lemmatization : This has a more expansive vocabulary than Stemming**"
      ],
      "metadata": {
        "id": "5v8enRpvUHGZ"
      }
    },
    {
      "cell_type": "code",
      "source": [
        "from nltk.stem import WordNetLemmatizer\n",
        "wordnet = WordNetLemmatizer()"
      ],
      "metadata": {
        "id": "BYsOD7yiUIcS"
      },
      "execution_count": 29,
      "outputs": []
    },
    {
      "cell_type": "code",
      "source": [
        "lemmatized = [wordnet.lemmatize(x) for x in words]"
      ],
      "metadata": {
        "id": "0tXBssGUUMkp"
      },
      "execution_count": 32,
      "outputs": []
    },
    {
      "cell_type": "code",
      "source": [
        "lemmatized"
      ],
      "metadata": {
        "colab": {
          "base_uri": "https://localhost:8080/",
          "height": 0
        },
        "id": "V5ktdLrdUPFr",
        "outputId": "e9682ff3-2e7c-4c91-96a8-70469d67ad34"
      },
      "execution_count": 33,
      "outputs": [
        {
          "output_type": "execute_result",
          "data": {
            "text/plain": [
              "['play', 'play', 'played', 'playing', 'player']"
            ]
          },
          "metadata": {},
          "execution_count": 33
        }
      ]
    }
  ]
}