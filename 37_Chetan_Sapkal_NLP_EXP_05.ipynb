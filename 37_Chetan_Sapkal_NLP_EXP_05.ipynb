{
  "nbformat": 4,
  "nbformat_minor": 0,
  "metadata": {
    "colab": {
      "provenance": []
    },
    "kernelspec": {
      "name": "python3",
      "display_name": "Python 3"
    },
    "language_info": {
      "name": "python"
    }
  },
  "cells": [
    {
      "cell_type": "markdown",
      "source": [
        "# **Parts of Speech**"
      ],
      "metadata": {
        "id": "rSZGsVFOq4LH"
      }
    },
    {
      "cell_type": "code",
      "source": [
        "text = \"TON 618 (short for Tonantzintla 618) is a hyperluminous, broad-absorption-line, radio-loud quasar and Lyman-alpha blob located near the border of the constellations Canes Venatici and Coma Berenices, with the projected comoving distance of approximately 18.2 billion light-years from Earth.\""
      ],
      "metadata": {
        "id": "g35RQIuxq4Z3"
      },
      "execution_count": 1,
      "outputs": []
    },
    {
      "cell_type": "markdown",
      "source": [
        "# **Importing necessary dependencies**"
      ],
      "metadata": {
        "id": "QVyosmH2rLLB"
      }
    },
    {
      "cell_type": "code",
      "source": [
        "import nltk\n",
        "from nltk.tokenize import word_tokenize\n",
        "nltk.download('punkt')\n",
        "nltk.download('averaged_perceptron_tagger')\n",
        "nltk.download('universal_tagset')"
      ],
      "metadata": {
        "colab": {
          "base_uri": "https://localhost:8080/"
        },
        "id": "jvxcDhIlrNUZ",
        "outputId": "e14c3ab7-7dc6-42a2-9482-aa9a63f088cd"
      },
      "execution_count": 9,
      "outputs": [
        {
          "output_type": "stream",
          "name": "stderr",
          "text": [
            "[nltk_data] Downloading package punkt to /root/nltk_data...\n",
            "[nltk_data]   Package punkt is already up-to-date!\n",
            "[nltk_data] Downloading package averaged_perceptron_tagger to\n",
            "[nltk_data]     /root/nltk_data...\n",
            "[nltk_data]   Package averaged_perceptron_tagger is already up-to-\n",
            "[nltk_data]       date!\n",
            "[nltk_data] Downloading package universal_tagset to /root/nltk_data...\n",
            "[nltk_data]   Unzipping taggers/universal_tagset.zip.\n"
          ]
        },
        {
          "output_type": "execute_result",
          "data": {
            "text/plain": [
              "True"
            ]
          },
          "metadata": {},
          "execution_count": 9
        }
      ]
    },
    {
      "cell_type": "markdown",
      "source": [
        "# **Word Tokenization**"
      ],
      "metadata": {
        "id": "DO5Z3h8xrS1X"
      }
    },
    {
      "cell_type": "code",
      "source": [
        "words = word_tokenize(text)"
      ],
      "metadata": {
        "id": "1ZVs9taTrVd_"
      },
      "execution_count": 5,
      "outputs": []
    },
    {
      "cell_type": "markdown",
      "source": [
        "# **Parts of Speech Tagging**"
      ],
      "metadata": {
        "id": "pZ5jts9SrYl3"
      }
    },
    {
      "cell_type": "code",
      "source": [
        "tagged_words = nltk.pos_tag(words, tagset = 'universal')"
      ],
      "metadata": {
        "id": "i1Sb84m3rdpY"
      },
      "execution_count": 10,
      "outputs": []
    },
    {
      "cell_type": "code",
      "source": [
        "tagged_words"
      ],
      "metadata": {
        "colab": {
          "base_uri": "https://localhost:8080/"
        },
        "id": "yEJGu49NrhSw",
        "outputId": "795d30fb-ebea-4cc6-a5dd-75e9ba27457b"
      },
      "execution_count": 11,
      "outputs": [
        {
          "output_type": "execute_result",
          "data": {
            "text/plain": [
              "[('TON', '.'),\n",
              " ('618', 'NUM'),\n",
              " ('(', '.'),\n",
              " ('short', 'ADJ'),\n",
              " ('for', 'ADP'),\n",
              " ('Tonantzintla', 'NOUN'),\n",
              " ('618', 'NUM'),\n",
              " (')', '.'),\n",
              " ('is', 'VERB'),\n",
              " ('a', 'DET'),\n",
              " ('hyperluminous', 'ADJ'),\n",
              " (',', '.'),\n",
              " ('broad-absorption-line', 'ADJ'),\n",
              " (',', '.'),\n",
              " ('radio-loud', 'ADJ'),\n",
              " ('quasar', 'NOUN'),\n",
              " ('and', 'CONJ'),\n",
              " ('Lyman-alpha', 'NOUN'),\n",
              " ('blob', 'NOUN'),\n",
              " ('located', 'VERB'),\n",
              " ('near', 'ADP'),\n",
              " ('the', 'DET'),\n",
              " ('border', 'NOUN'),\n",
              " ('of', 'ADP'),\n",
              " ('the', 'DET'),\n",
              " ('constellations', 'NOUN'),\n",
              " ('Canes', 'NOUN'),\n",
              " ('Venatici', 'NOUN'),\n",
              " ('and', 'CONJ'),\n",
              " ('Coma', 'NOUN'),\n",
              " ('Berenices', 'NOUN'),\n",
              " (',', '.'),\n",
              " ('with', 'ADP'),\n",
              " ('the', 'DET'),\n",
              " ('projected', 'VERB'),\n",
              " ('comoving', 'NOUN'),\n",
              " ('distance', 'NOUN'),\n",
              " ('of', 'ADP'),\n",
              " ('approximately', 'ADV'),\n",
              " ('18.2', 'NUM'),\n",
              " ('billion', 'NUM'),\n",
              " ('light-years', 'NOUN'),\n",
              " ('from', 'ADP'),\n",
              " ('Earth', 'NOUN'),\n",
              " ('.', '.')]"
            ]
          },
          "metadata": {},
          "execution_count": 11
        }
      ]
    },
    {
      "cell_type": "code",
      "source": [
        "for t in tagged_words:\n",
        "    print(t)"
      ],
      "metadata": {
        "colab": {
          "base_uri": "https://localhost:8080/"
        },
        "id": "_xN_AJiqrkLw",
        "outputId": "d9fb5e31-3d78-4115-8a5d-cef620161298"
      },
      "execution_count": 12,
      "outputs": [
        {
          "output_type": "stream",
          "name": "stdout",
          "text": [
            "('TON', '.')\n",
            "('618', 'NUM')\n",
            "('(', '.')\n",
            "('short', 'ADJ')\n",
            "('for', 'ADP')\n",
            "('Tonantzintla', 'NOUN')\n",
            "('618', 'NUM')\n",
            "(')', '.')\n",
            "('is', 'VERB')\n",
            "('a', 'DET')\n",
            "('hyperluminous', 'ADJ')\n",
            "(',', '.')\n",
            "('broad-absorption-line', 'ADJ')\n",
            "(',', '.')\n",
            "('radio-loud', 'ADJ')\n",
            "('quasar', 'NOUN')\n",
            "('and', 'CONJ')\n",
            "('Lyman-alpha', 'NOUN')\n",
            "('blob', 'NOUN')\n",
            "('located', 'VERB')\n",
            "('near', 'ADP')\n",
            "('the', 'DET')\n",
            "('border', 'NOUN')\n",
            "('of', 'ADP')\n",
            "('the', 'DET')\n",
            "('constellations', 'NOUN')\n",
            "('Canes', 'NOUN')\n",
            "('Venatici', 'NOUN')\n",
            "('and', 'CONJ')\n",
            "('Coma', 'NOUN')\n",
            "('Berenices', 'NOUN')\n",
            "(',', '.')\n",
            "('with', 'ADP')\n",
            "('the', 'DET')\n",
            "('projected', 'VERB')\n",
            "('comoving', 'NOUN')\n",
            "('distance', 'NOUN')\n",
            "('of', 'ADP')\n",
            "('approximately', 'ADV')\n",
            "('18.2', 'NUM')\n",
            "('billion', 'NUM')\n",
            "('light-years', 'NOUN')\n",
            "('from', 'ADP')\n",
            "('Earth', 'NOUN')\n",
            "('.', '.')\n"
          ]
        }
      ]
    }
  ]
}